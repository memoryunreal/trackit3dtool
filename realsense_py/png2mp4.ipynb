{
 "cells": [
  {
   "cell_type": "code",
   "execution_count": 2,
   "metadata": {},
   "outputs": [
    {
     "name": "stdout",
     "output_type": "stream",
     "text": [
      "180\n"
     ]
    }
   ],
   "source": [
    "#####################################################\n",
    "##               Read bag from file                ##\n",
    "#####################################################\n",
    "\n",
    "\n",
    "# First import library\n",
    "from tkinter import *\n",
    "import tkinter.filedialog\n",
    "import time\n",
    "# Import Numpy for easy array manipulation\n",
    "import numpy as np\n",
    "# Import OpenCV for easy image rendering\n",
    "import cv2\n",
    "# Import os.path for file path manipulation\n",
    "import os.path\n",
    "\n",
    "def read_image(dirpath):\n",
    "    sum_merge_image_list = []\n",
    "\n",
    "    \n",
    "    color_dir = os.path.join(dirpath, 'color')\n",
    "\n",
    "    color_image_list = sorted(os.listdir(color_dir))\n",
    "    color_image_sum = len(color_image_list)\n",
    "\n",
    "    for i in range(color_image_sum):\n",
    "        color_frames = cv2.imread(os.path.join(color_dir, color_image_list[i]))\n",
    "        \n",
    "        sum_merge_image_list.append(color_frames)\n",
    "    return sum_merge_image_list\n",
    "\n",
    "\n",
    "\n",
    "\n",
    "def video_write(merge_list, mp4name):\n",
    "    fourcc = cv2.VideoWriter_fourcc('m', 'p', '4', 'v')\n",
    "    size = (960,540)\n",
    "    video_writer = cv2.VideoWriter(os.path.join(dir_name, '%s.mp4' % mp4name), fourcc, 20, size)\n",
    "\n",
    "    color_image_sum = len(merge_list)\n",
    "\n",
    "    for i in range(color_image_sum):\n",
    "        try:\n",
    "            video_writer.write(merge_list[i])\n",
    "        except RuntimeError as e:\n",
    "            print('error')\n",
    "\n",
    "\n",
    "    video_writer.release()\n",
    "\n",
    "\n",
    "if __name__ == '__main__':\n",
    "    root = Tk()\n",
    "    root.withdraw()\n",
    "    dir_name = tkinter.filedialog.askdirectory(initialdir='/media/sielnce/DataT')\n",
    "    mp4_name = 'output'\n",
    "\n",
    "    # sub_dir_namelist = []\n",
    "    # sub_dir_list = ['backpack01_meetingroom', 'backpack02_meetingroom', 'backpack_lab'\n",
    "    #     , 'flag_lab', 'human_elevator', 'pikachu_lab', 'paperairplane_lab', 'unfoldingbag_lab']\n",
    "    # #sub_dir_list = ['chinchilla01_meetingroom']\n",
    "    # for dirname in sub_dir_list:\n",
    "    #     sub_dir_namelist.append(os.path.join(dir_name, dirname))\n",
    "    # merge_image_list = read_image(sub_dir_namelist)\n",
    "    merge_image_list = read_image(dir_name)\n",
    "    print(len(merge_image_list))\n",
    "    video_write(merge_image_list, mp4_name)"
   ]
  }
 ],
 "metadata": {
  "interpreter": {
   "hash": "995493de91c80bffee7bdecfccd069e86aa86dbee348ac9d5ccb067d14d1cfed"
  },
  "kernelspec": {
   "display_name": "Python 3.8.11 64-bit ('nb_conda': conda)",
   "name": "python3"
  },
  "language_info": {
   "codemirror_mode": {
    "name": "ipython",
    "version": 3
   },
   "file_extension": ".py",
   "mimetype": "text/x-python",
   "name": "python",
   "nbconvert_exporter": "python",
   "pygments_lexer": "ipython3",
   "version": "3.8.11"
  },
  "orig_nbformat": 4
 },
 "nbformat": 4,
 "nbformat_minor": 2
}
