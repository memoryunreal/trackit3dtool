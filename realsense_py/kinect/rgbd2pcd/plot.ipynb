{
 "cells": [
  {
   "cell_type": "code",
   "execution_count": 1,
   "metadata": {},
   "outputs": [
    {
     "name": "stdout",
     "output_type": "stream",
     "text": [
      "ok\n"
     ]
    }
   ],
   "source": [
    "import matplotlib.pyplot as plt\n",
    "import numpy as np\n",
    "x = [ \n",
    "26.88,\n",
    "21.98,\n",
    "19,\n",
    "15,\n",
    "4.16,\n",
    "9.47,\n",
    "0.43,\n",
    "5.41,\n",
    "4.92,\n",
    "2.39,\n",
    "1.28,\n",
    "16.19,\n",
    "7.27,\n",
    "4.77,\n",
    "13,\n",
    "1.32,\n",
    "5.65,\n",
    "3.77]\n",
    "y = [\n",
    "56,\n",
    "52.6,\n",
    "47.2,\n",
    "24.4,\n",
    "3.9,\n",
    "4,\n",
    "16.3,\n",
    "65.7,\n",
    "59,\n",
    "58.6,\n",
    "62.2,\n",
    "59.1,\n",
    "56.7,\n",
    "59.2,\n",
    "46.6,\n",
    "58.4,\n",
    "46.6,\n",
    "45.7,\n",
    "]\n",
    "size = [i*j for i,j in zip(x,y)]\n",
    "print('ok')\n",
    "trackerlist= [\n",
    "'DeT',\n",
    "'DAL',\n",
    "'TSDM',\n",
    "'CA3DMS',\n",
    "'DSKCF',\n",
    "'DSKCF_shape',\n",
    "'CSR_RGBD++',\n",
    "'STARK_RGBD',\n",
    "'DRefine',\n",
    "'SLMD',\n",
    "'TALGD',\n",
    "'sttc_rgbd',\n",
    "'CLGS-D',\n",
    "'DDiMP',\n",
    "'Siam_LTD',\n",
    "'ATCAIS',\n",
    "'LTDSEd',\n",
    "'SiamDW-D'\n",
    "]"
   ]
  },
  {
   "cell_type": "code",
   "execution_count": 2,
   "metadata": {},
   "outputs": [],
   "source": [
    "# plt.scatter(np.array(x), np.array(y), s=np.array(size)*2, c=x, cmap=\"Accent\", alpha=0.4, edgecolors=\"grey\", linewidth=2)\n",
    "color = ['red', 'yellow','brown', 'purple', 'darkgoldenrod', 'goldenrod', 'orange','grey', 'violet', 'lime', 'blue','darkcyan','dodgerblue','deeppink','pink','lightcoral','indianred','skyblue' ]\n",
    "for i, tracker in enumerate(trackerlist):\n",
    "    plt.scatter(np.array(x)[i], np.array(y)[i], s=np.array(size)[i]*2, alpha=0.5, c = color[i])\n",
    "# Add titles (main and on axis)\n",
    "# 添加坐标轴和标题信息\n",
    "plt.ylabel(\"F-score\")\n",
    "plt.xlabel(\"Speed\")\n",
    "plt.grid(ls='--')\n",
    "plt.title(\"\")\n",
    "plt.xlim(0,30)\n",
    "plt.ylim(0,80)\n",
    "# plt.legend()\n",
    "# Show the graph\n",
    "# plt.show()\n",
    "plt.savefig('./speed.png', dpi=200)"
   ]
  }
 ],
 "metadata": {
  "interpreter": {
   "hash": "31f2aee4e71d21fbe5cf8b01ff0e069b9275f58929596ceb00d14d90e3e16cd6"
  },
  "kernelspec": {
   "display_name": "Python 3.8.9 64-bit",
   "language": "python",
   "name": "python3"
  },
  "language_info": {
   "codemirror_mode": {
    "name": "ipython",
    "version": 3
   },
   "file_extension": ".py",
   "mimetype": "text/x-python",
   "name": "python",
   "nbconvert_exporter": "python",
   "pygments_lexer": "ipython3",
   "version": "3.7.11"
  },
  "orig_nbformat": 4
 },
 "nbformat": 4,
 "nbformat_minor": 2
}
